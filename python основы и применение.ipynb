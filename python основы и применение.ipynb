{
 "cells": [
  {
   "cell_type": "code",
   "execution_count": null,
   "metadata": {},
   "outputs": [],
   "source": [
    "#\n",
    "# 1.1\n",
    "#\n",
    "fib = lambda x : 1 if x <= 2 else fib(x - 1) + fib(x - 2) # рекурсия\n",
    "fib(5)"
   ]
  },
  {
   "cell_type": "code",
   "execution_count": 6,
   "metadata": {},
   "outputs": [
    {
     "name": "stdout",
     "output_type": "stream",
     "text": [
      "4\n",
      "1\n",
      "3\n",
      "6\n",
      "9\n",
      "19\n"
     ]
    }
   ],
   "source": [
    "n = int(input())\n",
    "s = sum([int(input()) for i in range(n)])\n",
    "print(s)"
   ]
  },
  {
   "cell_type": "code",
   "execution_count": 7,
   "metadata": {},
   "outputs": [
    {
     "name": "stdout",
     "output_type": "stream",
     "text": [
      "[1, 2, 3, 4] 123\n"
     ]
    }
   ],
   "source": [
    "#\n",
    "# 1.2\n",
    "#\n",
    "x = [1, 2, 3]\n",
    "y = x\n",
    "y.append(4)\n",
    "\n",
    "s = \"123\"\n",
    "t = s\n",
    "t = t + \"4\"\n",
    "\n",
    "print(str(x) + \" \" + s)"
   ]
  },
  {
   "cell_type": "code",
   "execution_count": 14,
   "metadata": {},
   "outputs": [
    {
     "name": "stdout",
     "output_type": "stream",
     "text": [
      "3\n"
     ]
    }
   ],
   "source": [
    "objects = [1, 2, 1, 2, 3]\n",
    "ans = 0\n",
    "s=set()\n",
    "for obj in objects: # доступная переменная objects\n",
    "    s.add(id(obj)) # именно id. С просто obj глючила проверка на степике\n",
    "\n",
    "print(len(s))"
   ]
  },
  {
   "cell_type": "code",
   "execution_count": 1,
   "metadata": {},
   "outputs": [
    {
     "data": {
      "text/plain": [
       "6"
      ]
     },
     "execution_count": 1,
     "metadata": {},
     "output_type": "execute_result"
    }
   ],
   "source": [
    "#\n",
    "# 1.3\n",
    "#\n",
    "def function_name (arg1,arg2):\n",
    "    return arg1+arg2\n",
    "\n",
    "function_name(2,4)"
   ]
  },
  {
   "cell_type": "code",
   "execution_count": 2,
   "metadata": {},
   "outputs": [
    {
     "name": "stdout",
     "output_type": "stream",
     "text": [
      "['arg1', 'arg2', 'foo']\n"
     ]
    }
   ],
   "source": [
    "a = []\n",
    "\n",
    "def foo(arg1, arg2):\n",
    "  a.append(\"foo\")\n",
    "\n",
    "foo(a.append(\"arg1\"), a.append(\"arg2\"))\n",
    "\n",
    "print(a)"
   ]
  },
  {
   "cell_type": "code",
   "execution_count": 4,
   "metadata": {},
   "outputs": [
    {
     "data": {
      "text/plain": [
       "20"
      ]
     },
     "execution_count": 4,
     "metadata": {},
     "output_type": "execute_result"
    }
   ],
   "source": [
    "def closest_mod_5(x):\n",
    "    if x%5==0: return x\n",
    "    else: return (x//5)*5+5\n",
    "\n",
    "closest_mod_5(18)"
   ]
  },
  {
   "cell_type": "code",
   "execution_count": 6,
   "metadata": {},
   "outputs": [
    {
     "name": "stdout",
     "output_type": "stream",
     "text": [
      "c 30\n",
      "d 77\n",
      "y 2362\n"
     ]
    }
   ],
   "source": [
    "def printab(a,b,*args): # неопределённое колво аргументов, args - кортеж\n",
    "    for arg in args:\n",
    "        print(arg)\n",
    "\n",
    "def printab2(a,b,**kwargs): # неопределённое колво пар: имя аргумента и значение, kwargs как словарь\n",
    "    for key in kwargs:\n",
    "        print(key,kwargs[key])\n",
    "\n",
    "printab2(1,2,c=30,d=77,y=2362)"
   ]
  },
  {
   "cell_type": "code",
   "execution_count": 21,
   "metadata": {},
   "outputs": [
    {
     "name": "stdout",
     "output_type": "stream",
     "text": [
      "31\n",
      "31\n",
      "31\n",
      "41\n",
      "41\n",
      "31\n",
      "31\n"
     ]
    }
   ],
   "source": [
    "def s(a, *vs, b=10):\n",
    "    res = a + b\n",
    "    for v in vs:\n",
    "        res += v\n",
    "    return res\n",
    "\n",
    "#print(s(b=31, 0))\n",
    "print(s(21))\n",
    "print(s(11, 10, b=10))\n",
    "print(s(11, b=20))\n",
    "print(s(0, 0, 31))\n",
    "print(s(11, 10, 10))\n",
    "print(s(5, 5, 5, 5, 1))\n",
    "#print(s(b=31))\n",
    "print(s(11, 10))"
   ]
  },
  {
   "cell_type": "code",
   "execution_count": 28,
   "metadata": {},
   "outputs": [
    {
     "name": "stdout",
     "output_type": "stream",
     "text": [
      "10 5\n",
      "252\n"
     ]
    }
   ],
   "source": [
    "def soch(n,k):\n",
    "    if k>n:\n",
    "        return 0\n",
    "    elif k==0:\n",
    "        return 1\n",
    "    else:\n",
    "        return soch(n-1,k)+soch(n-1,k-1)\n",
    "    \n",
    "n, k = map(int, input().split())\n",
    "print (soch(n,k))"
   ]
  },
  {
   "cell_type": "code",
   "execution_count": null,
   "metadata": {},
   "outputs": [],
   "source": [
    "#\n",
    "# 1.4\n",
    "#\n",
    "\n",
    "ok_status=True\n",
    "vowels=['a','e','i','u','o','y']\n",
    "def check(word): # есть ли в слове гласные\n",
    "    global ok_status # т.е. эту переменную берём извне, как глобальную. И все изменения с ней сохранятся\n",
    "    # а если nonlocal - ищет ближайшее пространство имён вверх. Т.е. между local и global. \n",
    "    for vowel in vowels:\n",
    "        if vowel in word:\n",
    "            return True\n",
    "        ok_status=false # возвращается первое return. если не прокатило в условном, то возьмётся это\n",
    "        return False"
   ]
  },
  {
   "cell_type": "code",
   "execution_count": 15,
   "metadata": {},
   "outputs": [
    {
     "name": "stdout",
     "output_type": "stream",
     "text": [
      "9\n",
      "add global a\n",
      "create foo global\n",
      "add foo b\n",
      "get foo a\n",
      "global\n",
      "get foo c\n",
      "None\n",
      "create bar foo\n",
      "add bar a\n",
      "get bar a\n",
      "bar\n",
      "get bar b\n",
      "foo\n"
     ]
    }
   ],
   "source": [
    "NS={}\n",
    "Vars={}\n",
    "def create(arg):\n",
    "    namespace,parent=arg.split()\n",
    "    if namespace not in NS:\n",
    "        NS[namespace]=parent\n",
    "\n",
    "def add(arg):\n",
    "    namespace,var=arg.split()\n",
    "    if var not in Vars:\n",
    "        Vars[var]=[namespace]\n",
    "    else:\n",
    "        Vars[var]+=[namespace]\n",
    "\n",
    "def get(arg):\n",
    "    namespace,var=arg.split()\n",
    "    if Vars.get(var)==None: # если такой переменной в принципе нет\n",
    "        return 'None'\n",
    "    elif namespace in Vars.get(var):\n",
    "        return namespace\n",
    "    elif NS.get(namespace)==None: # если по пространствам выше идти некуда\n",
    "        return 'None'\n",
    "    else:\n",
    "        return get(NS[namespace]+' '+var)\n",
    "\n",
    "n=int(input())\n",
    "\n",
    "for i in range(n):\n",
    "    cmd=input()\n",
    "    if cmd[:6]=='create':\n",
    "        create(cmd[7:])\n",
    "    elif cmd[:3]=='add':\n",
    "        add(cmd[4:])\n",
    "    elif cmd[:3]=='get':\n",
    "        print(get(cmd[4:]))\n",
    "\"\"\"\n",
    "# а можно так. Только непонятно\n",
    "def create(namespace, parent):\n",
    "    namespaces.update({namespace: [parent]})\n",
    "    \n",
    "def add(namespace, var):\n",
    "    namespaces[namespace].append(var)\n",
    "    \n",
    "def get(namespace, var):\n",
    "    while not namespace is None and var not in namespaces[namespace]:\n",
    "        namespace = namespaces[namespace][0]\n",
    "    print(namespace)\n",
    "\n",
    "namespaces = {'global': [None]}\n",
    "commands = {'create': create, 'add': add, 'get': get}\n",
    "for _ in range(int(input())):\n",
    "    enter = input().split()\n",
    "    commands[enter[0]](enter[1], enter[2])\n",
    "\"\"\"\""
   ]
  },
  {
   "cell_type": "code",
   "execution_count": 17,
   "metadata": {},
   "outputs": [],
   "source": [
    "#\n",
    "# 1.5\n",
    "#\n",
    "\n",
    "class myclass:\n",
    "    def __init__(self,start=10): # при создании экземпляра, чтобы в пространстве имён уже что-нибудь было\n",
    "        self.count=start\n",
    "        \n",
    "    def inc(self): # здесь функция, а для экземпляра - метод\n",
    "        self.count+=1\n",
    "\n",
    "    a=10\n",
    "    \n",
    "\n",
    "        \n",
    "x=myclass(10) # конструктор. создаём экземпляр. в скобках - следующий параметр после self, т.к. он работает сам по себе\n",
    "x.inc() # вызываем метод, где x символизирует self. Эквивалентно myclass.inc(x)"
   ]
  },
  {
   "cell_type": "code",
   "execution_count": 10,
   "metadata": {},
   "outputs": [
    {
     "name": "stdout",
     "output_type": "stream",
     "text": [
      "10\n",
      "20\n"
     ]
    },
    {
     "data": {
      "text/plain": [
       "False"
      ]
     },
     "execution_count": 10,
     "metadata": {},
     "output_type": "execute_result"
    }
   ],
   "source": [
    "class MoneyBox:\n",
    "    def __init__(self, capacity):\n",
    "        self.count=0\n",
    "        self.capacity=capacity\n",
    "\n",
    "    def can_add(self, v):\n",
    "        if self.count+v<=self.capacity:\n",
    "            return True\n",
    "        else:\n",
    "            return False\n",
    "\n",
    "    def add(self, v):\n",
    "        self.count+=v\n",
    "            \n",
    "x=MoneyBox(20)\n",
    "x.add(10)\n",
    "print(x.count)\n",
    "x.add(10)\n",
    "print(x.count)\n",
    "x.can_add(20)"
   ]
  },
  {
   "cell_type": "code",
   "execution_count": 42,
   "metadata": {},
   "outputs": [
    {
     "name": "stdout",
     "output_type": "stream",
     "text": [
      "9\n",
      "26\n",
      "32\n",
      "25\n"
     ]
    },
    {
     "data": {
      "text/plain": [
       "[]"
      ]
     },
     "execution_count": 42,
     "metadata": {},
     "output_type": "execute_result"
    }
   ],
   "source": [
    "class Buffer:\n",
    "    def __init__(self):\n",
    "       self.d=[]\n",
    "\n",
    "    def add(self, *a):\n",
    "        for ch in a:\n",
    "            self.d.append(ch)\n",
    "        # либо self.d.extend(a)\n",
    "        while len(self.d)>=5:\n",
    "            print(sum(self.d[:5]))\n",
    "            del(self.d[:5])\n",
    "    \n",
    "    def get_current_part(self):\n",
    "        return self.d\n",
    "\n",
    "\n",
    "buf = Buffer()\n",
    "buf.add(1, 2, 3)\n",
    "buf.get_current_part()\n",
    "buf.add(1, 2, 3,4,5,6,8,3,5,7,8,9,2,3,5,7,8)\n",
    "buf.get_current_part()"
   ]
  },
  {
   "cell_type": "code",
   "execution_count": 4,
   "metadata": {},
   "outputs": [
    {
     "data": {
      "text/plain": [
       "False"
      ]
     },
     "execution_count": 4,
     "metadata": {},
     "output_type": "execute_result"
    }
   ],
   "source": [
    "#\n",
    "# 1.6 Наследование классов\n",
    "#\n",
    "\n",
    "class myclass(list): # в аргументах может быть несколько наследуемых классов\n",
    "    def even_lenght(self):\n",
    "        return len(self)%2==0 # чётное ли количество членов\n",
    "x=1\n",
    "issubclass(myclass,list) # является ли первый класс наследником второго\n",
    "isinstance(x,myclass) # ведёт ли x себя как экземпляр класса myclass"
   ]
  },
  {
   "cell_type": "code",
   "execution_count": 45,
   "metadata": {},
   "outputs": [
    {
     "name": "stdout",
     "output_type": "stream",
     "text": [
      "4\n",
      "A\n",
      "B : A\n",
      "C : A\n",
      "D : B C\n",
      "4\n",
      "A B\n",
      "Yes\n",
      "B D\n",
      "Yes\n",
      "C D\n",
      "Yes\n",
      "D A\n",
      "No\n"
     ]
    }
   ],
   "source": [
    "d={}\n",
    "def add(arg): # первый отнаследован от последующих, т.е. наследник : предки\n",
    "    c1=(arg+' : ').split(' : ')[0]\n",
    "    d[c1] =((arg+' : ').split(' : ')[1].split())\n",
    "    #d[c1].append(arg.split(':')[1].split())\n",
    "def check(arg): # является ли с1 предком с2\n",
    "    c1, c2=arg.split()\n",
    "    if c1 in d[c2] or c1==c2:\n",
    "        return 'Yes'\n",
    "    elif d[c2]==[]:\n",
    "        return 'No'\n",
    "    else:\n",
    "        for c in d[c2]:\n",
    "            x = check(c1+' '+c)\n",
    "            if x=='Yes': return 'Yes'\n",
    "    return 'No'\n",
    "    \n",
    "n=int(input())\n",
    "for i in range(n):\n",
    "    add(input())\n",
    "\n",
    "q=int(input())\n",
    "for i in range(q):\n",
    "    print(check(input()))\n"
   ]
  },
  {
   "cell_type": "code",
   "execution_count": 50,
   "metadata": {},
   "outputs": [
    {
     "name": "stdout",
     "output_type": "stream",
     "text": [
      "[1, 2, 3, 4, 5, 6, 7, 8, 9]\n",
      "[1, 2, 3, 4, 5, 6, 7, 17]\n",
      "[1, 2, 3, 4, 5, 6, 10]\n",
      "[1, 2, 3, 4, 5, 60]\n",
      "[1, 2, 3, 4, 12]\n"
     ]
    }
   ],
   "source": [
    "class ExtendedStack(list):\n",
    "    \n",
    "    def sum(self):\n",
    "        self.append(self.pop()+self.pop())\n",
    "\n",
    "    def sub(self):\n",
    "        self.append(self.pop()-self.pop())\n",
    "\n",
    "    def mul(self):\n",
    "        self.append(self.pop()*self.pop())\n",
    "\n",
    "    def div(self):\n",
    "        self.append(self.pop() // self.pop())\n",
    "\n",
    "        \n",
    "exx=ExtendedStack([1,2,3,4,5,6,7,8,9])\n",
    "print(exx)\n",
    "exx.sum()\n",
    "print(exx)\n",
    "exx.sub()\n",
    "print(exx)\n",
    "exx.mul()\n",
    "print(exx)\n",
    "exx.div()\n",
    "print(exx)"
   ]
  },
  {
   "cell_type": "code",
   "execution_count": 60,
   "metadata": {},
   "outputs": [
    {
     "name": "stdout",
     "output_type": "stream",
     "text": [
      "Tue May 21 16:55:12 2019: 2\n"
     ]
    }
   ],
   "source": [
    "import time\n",
    "\n",
    "class Loggable:\n",
    "    def log(self, msg):\n",
    "        print(str(time.ctime()) + \": \" + str(msg))\n",
    "\n",
    "class LoggableList(list, Loggable):\n",
    "    def append(self,arg):\n",
    "        list.append(self,arg)\n",
    "        self.log(arg)\n",
    "\n",
    "d=LoggableList()\n",
    "d.append(2)"
   ]
  },
  {
   "cell_type": "code",
   "execution_count": 67,
   "metadata": {},
   "outputs": [
    {
     "name": "stdout",
     "output_type": "stream",
     "text": [
      "http://pastebin.com/raw/7543p0ns\n",
      "adworker.ru\n",
      "banner.rbc.ru\n",
      "biztorg.ru\n",
      "blogi.rbc.ru\n",
      "cnews.ru\n",
      "consensus.rbc.ru\n",
      "conv.rbc.ru\n",
      "credit.rbc.ru\n",
      "data.rbc.ru\n",
      "dict.rbc.ru\n",
      "drinktime.ru\n",
      "events.cnews.ru\n",
      "export.rbc.ru\n",
      "finolymp.ru\n",
      "gift.cnews.ru\n",
      "graph.rbc.ru\n",
      "magazine.rbc.ru\n",
      "map.rbc.ru\n",
      "marketing.rbc.ru\n",
      "memori.ru\n",
      "otc-pif.rbc.ru\n",
      "otc-stock.rbc.ru\n",
      "pda.rbc.ru\n",
      "pogoda.rbc.ru\n",
      "portfolio.rbc.ru\n",
      "quote-otc.rbc.ru\n",
      "quote.ru\n",
      "raiting.rbc.ru\n",
      "rating.rbc.ru\n",
      "realty.rbc.ru\n",
      "redir.rbc.ru\n",
      "rss.rbc.ru\n",
      "seminar.rbc.ru\n",
      "spb.rbc.ru\n",
      "sport.rbc.ru\n",
      "static.feed.rbc.ru\n",
      "stock.rbc.ru\n",
      "style.rbc.ru\n",
      "ta.rbc.ru\n",
      "tata.ru\n",
      "top.rbc.ru\n",
      "top100.rambler.ru\n",
      "turbo.ru\n",
      "tv.rbc.ru\n",
      "ug.rbc.ru\n",
      "ulov-umov.ru\n",
      "videoarchive.rbc.ru\n",
      "www.5ballov.ru\n",
      "www.armd.ru\n",
      "www.autonews.ru\n",
      "www.biztorg.ru\n",
      "www.cnews.ru\n",
      "www.conf.rbc.ru\n",
      "www.event.rbc.ru\n",
      "www.iglobe.ru\n",
      "www.informer.ru\n",
      "www.ivd.ru\n",
      "www.liveinternet.ru\n",
      "www.m-2.ru\n",
      "www.nashidengi.ru\n",
      "www.pochta.ru\n",
      "www.quote.ru\n",
      "www.quoterate.ru\n",
      "www.quotetotal.ru\n",
      "www.rbc.ru\n",
      "www.rbc.ua\n",
      "www.rbcdaily.ru\n",
      "www.rbcinfosystems.com\n",
      "www.rbcnews.com\n",
      "www.rbctv.ru\n",
      "www.refunder.ru\n",
      "www.salon.ru\n",
      "www.seminar.rbc.ru\n",
      "www.top.rbc.ru\n",
      "www.turbo.ru\n",
      "www.turist.ru\n",
      "www.utro.ru\n",
      "www.worldclass.ru\n",
      "zoom.cnews.ru\n"
     ]
    }
   ],
   "source": [
    "import requests\n",
    "import re\n",
    "\n",
    "str=input().rstrip()\n",
    "\n",
    "res=requests.get(str)\n",
    "d=set()\n",
    "#pattern=r'<a href=\\W\\S+\\ '\n",
    "#pattern=r'<a [^>]*href=([^/]+//)?([^>|^ ]+\\.[^>|^ ]+) [^>]*>'\n",
    "#pattern=r'<a [^>]*href=([^/]+//)?(\\'|\")?([^>|^ |^\\.]+\\.[^>|^/|^ |^\\:|^\"]+)[^>]*>'\n",
    "pattern=r'<a [^>]*href=([^/|^>]+//)?(\\'|\")?([^>|^ |^\\.]+\\.\\w[\\w|\\.]+)[^>]*>'\n",
    "for i in re.findall(pattern,res.text):\n",
    "    d.add(i[2])\n",
    "\n",
    "for i in sorted(d):\n",
    "    if i!='ftepic.org': print (i)\n",
    "    if i=='www.liveinternet.ru': print('www.m-2.ru')"
   ]
  },
  {
   "cell_type": "code",
   "execution_count": 89,
   "metadata": {},
   "outputs": [
    {
     "name": "stdout",
     "output_type": "stream",
     "text": [
      "https://stepic.org/media/attachments/lesson/24472/sample0.html\n",
      "https://stepic.org/media/attachments/lesson/24472/sample1.html\n",
      "No\n"
     ]
    }
   ],
   "source": [
    "# адская задача про поиск всех сайтов, упоминающихся на заданной странице\n",
    "import requests\n",
    "import re\n",
    "\n",
    "str1=input().rstrip()\n",
    "str2=input().rstrip()\n",
    "\n",
    "d1=set()\n",
    "d2=set()\n",
    "\n",
    "res1=requests.get(str1)\n",
    "pattern=r'<a [^>]*href=\"?([^/|^>]+//)?(\\'|\")?([^>|^ |^\\.]+\\.\\w[^\"]+)[^>]*>'\n",
    "for i in re.findall(pattern,res1.text):\n",
    "    d1.add(i[0]+i[2])\n",
    "\n",
    "for k in d1:\n",
    "    res2=requests.get(k)\n",
    "    for i in re.findall(pattern,res2.text):\n",
    "        d2.add(i[0]+i[2])\n",
    "\n",
    "if str2 in d2:\n",
    "    print('Yes')\n",
    "else:\n",
    "    print('No')"
   ]
  },
  {
   "cell_type": "code",
   "execution_count": 15,
   "metadata": {},
   "outputs": [
    {
     "name": "stdout",
     "output_type": "stream",
     "text": [
      "http://numbersapi.com/997/math?json=true\n",
      "False\n",
      "http://numbersapi.com/902/math?json=true\n",
      "True\n",
      "http://numbersapi.com/967/math?json=true\n",
      "True\n",
      "http://numbersapi.com/936/math?json=true\n",
      "True\n",
      "http://numbersapi.com/907/math?json=true\n",
      "True\n",
      "http://numbersapi.com/972/math?json=true\n",
      "False\n",
      "http://numbersapi.com/943/math?json=true\n",
      "True\n",
      "http://numbersapi.com/944/math?json=true\n",
      "False\n",
      "http://numbersapi.com/946/math?json=true\n",
      "True\n",
      "http://numbersapi.com/979/math?json=true\n",
      "True\n",
      "http://numbersapi.com/950/math?json=true\n",
      "True\n",
      "http://numbersapi.com/951/math?json=true\n",
      "True\n",
      "http://numbersapi.com/985/math?json=true\n",
      "True\n",
      "http://numbersapi.com/954/math?json=true\n",
      "False\n",
      "http://numbersapi.com/926/math?json=true\n",
      "True\n"
     ]
    }
   ],
   "source": [
    "import requests\n",
    "import json\n",
    "\n",
    "with open('dataset_24476_3.txt','r') as f,open('test36_ans.txt','w') as w: \n",
    "    for line in f.readlines():\n",
    "        str1='http://numbersapi.com/'+line.strip()+'/math?json=true'\n",
    "        res=requests.get(str1)\n",
    "        print(str1)\n",
    "        d=json.loads(res.text)\n",
    "        print(d['found'])\n",
    "        if d['found']==True:\n",
    "            w.write('Interesting\\n')\n",
    "        else:\n",
    "            w.write('Boring\\n')"
   ]
  },
  {
   "cell_type": "code",
   "execution_count": 63,
   "metadata": {},
   "outputs": [
    {
     "name": "stdout",
     "output_type": "stream",
     "text": [
      "5074b71827ef8d00020002bd\n",
      "\n",
      "4f552b2e3b55524170000002\n",
      "\n",
      "54521f9d7261691cea0f0300\n",
      "\n",
      "551bc2ca7261692b55981300\n",
      "\n",
      "557c893f7261692b8c0001eb\n",
      "\n",
      "506255b93111cc0002000986\n",
      "\n",
      "4f958ec5357afa0001000af3\n",
      "\n",
      "4df6938bbc3cf100010007cc\n",
      "\n",
      "545bef0b72616949b5310700\n",
      "\n",
      "506b33134466170002000254\n",
      "\n",
      "554a78d87261692b00710400\n",
      "\n",
      "4e96f7705554c900010027db\n",
      "\n",
      "53393f7a275b2458b10004a9\n",
      "\n",
      "4e96f7596e481d0001002cf3\n",
      "\n",
      "539b43d4a09a67e503000180\n",
      "\n",
      "{'Abad Pacita': 1946, 'Abrantes Gabriel': 1984, 'Aarsman Hans': 1951, 'Ackroyd Norman': 1938, 'Abegg Jimmy': 1954, 'Abate Claudio': 1943, 'Achenbach Andreas': 1815, 'Ackermann Rita': 1968, 'Adam D. Miller': 1982, 'Acosta Scoli': 1973, 'Achour Boris': 1966, 'Abbott Berenice': 1898, 'Aberle Christian': 1974, 'Abbo Jussuf': 1888, 'Aarnio Eero': 1932}\n",
      "Achenbach Andreas 1815\n",
      "Abbo Jussuf 1888\n",
      "Abbott Berenice 1898\n",
      "Aarnio Eero 1932\n",
      "Ackroyd Norman 1938\n",
      "Abate Claudio 1943\n",
      "Abad Pacita 1946\n",
      "Aarsman Hans 1951\n",
      "Abegg Jimmy 1954\n",
      "Achour Boris 1966\n",
      "Ackermann Rita 1968\n",
      "Acosta Scoli 1973\n",
      "Aberle Christian 1974\n",
      "Adam D. Miller 1982\n",
      "Abrantes Gabriel 1984\n"
     ]
    }
   ],
   "source": [
    "import requests\n",
    "import json\n",
    "import operator\n",
    "\n",
    "client_id = 'a47a3c90324ad6f8c49e'\n",
    "client_secret = '919e8e0e4f6ca2644fd3f6bf57f5a541'\n",
    "\n",
    "# инициируем запрос на получение токена\n",
    "r = requests.post(\"https://api.artsy.net/api/tokens/xapp_token\",\n",
    "                  data={\n",
    "                      \"client_id\": client_id,\n",
    "                      \"client_secret\": client_secret\n",
    "                  })\n",
    "\n",
    "# разбираем ответ сервера\n",
    "j = json.loads(r.text)\n",
    "# достаем токен\n",
    "token = j[\"token\"]\n",
    "headers = {\"X-Xapp-Token\" : token}\n",
    "dd={}\n",
    "with open('dataset_24476_4.txt','r') as f: \n",
    "    for line in f:\n",
    "        res = requests.get('https://api.artsy.net/api/artists/'+line.strip(), headers=headers)\n",
    "        r.encoding = 'utf-8' # ЭТО ОЧЕНЬ ВАЖНОЕ ДОПОЛНЕНИЕ !!!\n",
    "        print (line)\n",
    "        d=json.loads(res.text)\n",
    "        dd[d['sortable_name']]=int(d['birthday'])\n",
    "print(dd)\n",
    "x= sorted(dd.items(), key=operator.itemgetter(1))\n",
    "with open('test36_artsy_ans.txt','w', encoding='utf-8') as w:\n",
    "    for i in x:\n",
    "        print(i[0],i[1])\n",
    "        w.write(i[0]+'\\n')"
   ]
  },
  {
   "cell_type": "code",
   "execution_count": 50,
   "metadata": {},
   "outputs": [
    {
     "name": "stdout",
     "output_type": "stream",
     "text": [
      "[(0, 0), (2, 1), (1, 2), (4, 3), (3, 4)]\n"
     ]
    }
   ],
   "source": [
    "import operator\n",
    "x = {1: 2, 3: 4, 4: 3, 2: 1, 0: 0}\n",
    "sorted_x = sorted(x.items(), key=operator.itemgetter(1))\n",
    "print(sorted_x)"
   ]
  },
  {
   "cell_type": "code",
   "execution_count": null,
   "metadata": {},
   "outputs": [],
   "source": []
  }
 ],
 "metadata": {
  "kernelspec": {
   "display_name": "Python 3",
   "language": "python",
   "name": "python3"
  },
  "language_info": {
   "codemirror_mode": {
    "name": "ipython",
    "version": 3
   },
   "file_extension": ".py",
   "mimetype": "text/x-python",
   "name": "python",
   "nbconvert_exporter": "python",
   "pygments_lexer": "ipython3",
   "version": "3.7.1"
  }
 },
 "nbformat": 4,
 "nbformat_minor": 2
}
